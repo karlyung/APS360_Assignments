{
 "cells": [
  {
   "cell_type": "code",
   "execution_count": 1,
   "metadata": {},
   "outputs": [],
   "source": [
    "import csv\n",
    "import numpy as np\n",
    "import random\n",
    "import torch\n",
    "import torch.utils.data\n",
    "\n",
    "import pandas as pd"
   ]
  },
  {
   "cell_type": "code",
   "execution_count": 2,
   "metadata": {},
   "outputs": [
    {
     "name": "stdout",
     "output_type": "stream",
     "text": [
      "32561\n"
     ]
    }
   ],
   "source": [
    "# Part 1 (a)\n",
    "header = ['age', 'work', 'fnlwgt', 'edu', 'yredu', 'marriage', 'occupation',\n",
    " 'relationship', 'race', 'sex', 'capgain', 'caploss', 'workhr', 'country','income']\n",
    "df = pd.read_csv('adult.data', names = header)\n",
    "print(df.shape[0])"
   ]
  },
  {
   "cell_type": "code",
   "execution_count": 3,
   "metadata": {},
   "outputs": [
    {
     "name": "stdout",
     "output_type": "stream",
     "text": [
      "Min:\n",
      "age        17\n",
      "yredu       1\n",
      "capgain     0\n",
      "caploss     0\n",
      "workhr      1\n",
      "dtype: int64\n",
      "\n",
      "Max:\n",
      "age           90\n",
      "yredu         16\n",
      "capgain    99999\n",
      "caploss     4356\n",
      "workhr        99\n",
      "dtype: int64\n",
      "\n",
      "Mean:\n",
      "age          38.581647\n",
      "yredu        10.080679\n",
      "capgain    1077.648844\n",
      "caploss      87.303830\n",
      "workhr       40.437456\n",
      "dtype: float64\n"
     ]
    }
   ],
   "source": [
    "# Part 1 (b)\n",
    "subdf = df[[\"age\", \"yredu\", \"capgain\", \"caploss\", \"workhr\"]]\n",
    "print('Min:\\n' + str(np.min(subdf, axis = 0)))\n",
    "print('\\nMax:\\n' + str(np.max(subdf, axis = 0)))\n",
    "print('\\nMean:\\n' + str(np.mean(subdf, axis = 0)))"
   ]
  },
  {
   "cell_type": "code",
   "execution_count": 4,
   "metadata": {},
   "outputs": [
    {
     "name": "stdout",
     "output_type": "stream",
     "text": [
      "[[0.30136986 0.8        0.02174022 0.         0.39795918]\n",
      " [0.45205479 0.8        0.         0.         0.12244898]\n",
      " [0.28767123 0.53333333 0.         0.         0.39795918]\n",
      " ...\n",
      " [0.56164384 0.53333333 0.         0.         0.39795918]\n",
      " [0.06849315 0.53333333 0.         0.         0.19387755]\n",
      " [0.47945205 0.53333333 0.1502415  0.         0.39795918]]\n"
     ]
    }
   ],
   "source": [
    "# Part 1 (c)\n",
    "out = []\n",
    "for i in range(subdf.shape[1]):\n",
    "    cur_out = []\n",
    "    cur_max = np.max(subdf.values[:,i])\n",
    "    cur_min = np.min(subdf.values[:,i])\n",
    "    for j in range(subdf.shape[0]):\n",
    "        if (cur_max-cur_min) == 0:\n",
    "            cur_out.append(0)\n",
    "        else:\n",
    "            cur_out.append((subdf.values[j,i]-cur_min)/(cur_max-cur_min))\n",
    "    out.append(cur_out)\n",
    "out = np.array(out).T\n",
    "print(out)"
   ]
  },
  {
   "cell_type": "code",
   "execution_count": 5,
   "metadata": {},
   "outputs": [
    {
     "name": "stdout",
     "output_type": "stream",
     "text": [
      "21790\n",
      "10771\n"
     ]
    }
   ],
   "source": [
    "# Part 1 (d)\n",
    "print(sum(df[\"sex\"] == \" Male\"))\n",
    "print(sum(df[\"sex\"] == \" Female\"))"
   ]
  },
  {
   "cell_type": "code",
   "execution_count": 6,
   "metadata": {},
   "outputs": [],
   "source": [
    "# Part 1 (e)\n",
    "contcols = [\"age\", \"yredu\", \"capgain\", \"caploss\", \"workhr\"]\n",
    "catcols = [\"work\", \"marriage\", \"occupation\", \"edu\", \"relationship\", \"sex\"]\n",
    "features = contcols + catcols\n",
    "df = df[features]\n",
    "\n",
    "missing = pd.concat([df[c] == \" ?\" for c in catcols], axis=1).any(axis=1)\n",
    "df_with_missing = df[missing]\n",
    "df_not_missing = df[~missing]"
   ]
  },
  {
   "cell_type": "code",
   "execution_count": 7,
   "metadata": {},
   "outputs": [
    {
     "name": "stdout",
     "output_type": "stream",
     "text": [
      "1843\n",
      "30718\n"
     ]
    }
   ],
   "source": [
    "print(df_with_missing.shape[0])\n",
    "print(df_not_missing.shape[0])"
   ]
  },
  {
   "cell_type": "code",
   "execution_count": 8,
   "metadata": {},
   "outputs": [
    {
     "name": "stdout",
     "output_type": "stream",
     "text": [
      "work_ Federal-gov\n",
      "work_ Local-gov\n",
      "work_ Private\n",
      "work_ Self-emp-inc\n",
      "work_ Self-emp-not-inc\n",
      "work_ State-gov\n",
      "work_ Without-pay\n"
     ]
    }
   ],
   "source": [
    "# Part 1 (f)\n",
    "data = pd.get_dummies(df_not_missing)\n",
    "print('\\n'.join(s for s in list(data) if 'work_' in s))"
   ]
  },
  {
   "cell_type": "code",
   "execution_count": 9,
   "metadata": {},
   "outputs": [
    {
     "data": {
      "text/plain": [
       "57"
      ]
     },
     "execution_count": 9,
     "metadata": {},
     "output_type": "execute_result"
    }
   ],
   "source": [
    "# Part 1 (g)\n",
    "data.shape[1]\n",
    "# During pd.get_dummies, string value columns are expanded into multiple\n",
    "# columns each and converted into binary (0 or 1) values.\n",
    "# This causes the increased number of columns (57)."
   ]
  },
  {
   "cell_type": "code",
   "execution_count": 10,
   "metadata": {},
   "outputs": [],
   "source": [
    "# Part 1 (h)\n",
    "datanp = data.values.astype(np.float32)\n",
    "\n",
    "cat_index = {}  # Mapping of feature -> start index of feature in a record\n",
    "cat_values = {} # Mapping of feature -> list of categorical values the feature can take\n",
    "\n",
    "# build up the cat_index and cat_values dictionary\n",
    "for i, header in enumerate(data.keys()):\n",
    "    if \"_\" in header: # categorical header\n",
    "        feature, value = header.split()\n",
    "        feature = feature[:-1] # remove the last char; it is always an underscore\n",
    "        if feature not in cat_index:\n",
    "            cat_index[feature] = i\n",
    "            cat_values[feature] = [value]\n",
    "        else:\n",
    "            cat_values[feature].append(value)\n",
    "\n",
    "def get_onehot(record, feature):\n",
    "    \"\"\"\n",
    "    Return the portion of `record` that is the one-hot encoding\n",
    "    of feature. For example, since the feature \"work\" is stored\n",
    "    in the indices [5:12] in each record, calling `get_range(record, \"work\")`\n",
    "    is equivalent to accessing `record[5:12]`.\n",
    "    \n",
    "    Args:\n",
    "        - record: a numpy array representing one record, formatted\n",
    "                  the same way as a row in `data.np`\n",
    "        - feature: a string, should be an element of `catcols`\n",
    "    \"\"\"\n",
    "    start_index = cat_index[feature]\n",
    "    stop_index = cat_index[feature] + len(cat_values[feature])\n",
    "    return record[start_index:stop_index]\n",
    "\n",
    "def get_categorical_value(onehot, feature):\n",
    "    \"\"\"\n",
    "    Return the categorical value name of a feature given\n",
    "    a one-hot vector representing the feature.\n",
    "    \n",
    "    Args:\n",
    "        - onehot: a numpy array one-hot representation of the feature\n",
    "        - feature: a string, should be an element of `catcols`\n",
    "        \n",
    "    Examples:\n",
    "    \n",
    "    >>> get_categorical_value(np.array([0., 0., 0., 0., 0., 1., 0.]), \"work\")\n",
    "    'State-gov'\n",
    "    >>> get_categorical_value(np.array([0.1, 0., 1.1, 0.2, 0., 1., 0.]), \"work\")\n",
    "    'Private'\n",
    "    \"\"\"\n",
    "    return cat_values[feature][onehot.argmax(axis=0)]\n",
    "\n",
    "def get_feature(record, feature):\n",
    "    \"\"\"\n",
    "    Return the categorical feature value of a record\n",
    "    \"\"\"\n",
    "    onehot = get_onehot(record, feature)\n",
    "    return get_categorical_value(onehot, feature)\n",
    "\n",
    "def get_features(record):\n",
    "    \"\"\"\n",
    "    Return a dictionary of all categorical feature values of a record\n",
    "    \"\"\"\n",
    "    return { f: get_feature(record, f) for f in catcols }"
   ]
  },
  {
   "cell_type": "code",
   "execution_count": 11,
   "metadata": {},
   "outputs": [
    {
     "name": "stdout",
     "output_type": "stream",
     "text": [
      "{'work': 5, 'marriage': 12, 'occupation': 19, 'edu': 33, 'relationship': 49, 'sex': 55}\n",
      "{'work': ['Federal-gov', 'Local-gov', 'Private', 'Self-emp-inc', 'Self-emp-not-inc', 'State-gov', 'Without-pay'], 'marriage': ['Divorced', 'Married-AF-spouse', 'Married-civ-spouse', 'Married-spouse-absent', 'Never-married', 'Separated', 'Widowed'], 'occupation': ['Adm-clerical', 'Armed-Forces', 'Craft-repair', 'Exec-managerial', 'Farming-fishing', 'Handlers-cleaners', 'Machine-op-inspct', 'Other-service', 'Priv-house-serv', 'Prof-specialty', 'Protective-serv', 'Sales', 'Tech-support', 'Transport-moving'], 'edu': ['10th', '11th', '12th', '1st-4th', '5th-6th', '7th-8th', '9th', 'Assoc-acdm', 'Assoc-voc', 'Bachelors', 'Doctorate', 'HS-grad', 'Masters', 'Preschool', 'Prof-school', 'Some-college'], 'relationship': ['Husband', 'Not-in-family', 'Other-relative', 'Own-child', 'Unmarried', 'Wife'], 'sex': ['Female', 'Male']}\n"
     ]
    }
   ],
   "source": [
    "print(cat_index)\n",
    "print(cat_values)"
   ]
  },
  {
   "cell_type": "code",
   "execution_count": 12,
   "metadata": {},
   "outputs": [
    {
     "name": "stdout",
     "output_type": "stream",
     "text": [
      "State-gov\n",
      "Private\n"
     ]
    }
   ],
   "source": [
    "print(get_categorical_value(np.array([0., 0., 0., 0., 0., 1., 0.]), \"work\"))\n",
    "print(get_categorical_value(np.array([0.1, 0., 1.1, 0.2, 0., 1., 0.]), \"work\"))"
   ]
  },
  {
   "cell_type": "code",
   "execution_count": 13,
   "metadata": {},
   "outputs": [],
   "source": [
    "# Part 1 (i)\n",
    "np.random.seed(50) # set the numpy seed for consistent split\n",
    "\n",
    "np.random.shuffle(datanp)\n",
    "training = datanp[0:int(len(datanp)*0.70)]\n",
    "valid = datanp[int(len(datanp)*0.70):int(len(datanp)*0.85)]\n",
    "test = datanp[int(len(datanp)*0.85):int(len(datanp)*1.00)]"
   ]
  },
  {
   "cell_type": "code",
   "execution_count": 14,
   "metadata": {},
   "outputs": [
    {
     "name": "stdout",
     "output_type": "stream",
     "text": [
      "(21502, 57)\n",
      "(4608, 57)\n",
      "(4608, 57)\n"
     ]
    }
   ],
   "source": [
    "print(training.shape)\n",
    "print(valid.shape)\n",
    "print(test.shape)"
   ]
  },
  {
   "cell_type": "code",
   "execution_count": 15,
   "metadata": {},
   "outputs": [],
   "source": [
    "# Part 2\n",
    "from torch import nn\n",
    "\n",
    "class AutoEncoder(nn.Module):\n",
    "    def __init__(self):\n",
    "        super(AutoEncoder, self).__init__()\n",
    "        self.encoder = nn.Sequential(\n",
    "            nn.Linear(57, 57),\n",
    "            nn.Sigmoid(),\n",
    "            nn.Linear(20, 20)\n",
    "        )\n",
    "        self.decoder = nn.Sequential(\n",
    "            nn.Linear(20,20),\n",
    "            nn.Sigmoid(),\n",
    "            nn.Linear(57, 57),\n",
    "            nn.Sigmoid() # get to the range (0, 1)\n",
    "        )\n",
    "\n",
    "    def forward(self, x):\n",
    "        x = self.encoder(x)\n",
    "        x = self.decoder(x)\n",
    "        return x"
   ]
  },
  {
   "cell_type": "code",
   "execution_count": 16,
   "metadata": {},
   "outputs": [
    {
     "ename": "RuntimeError",
     "evalue": "size mismatch, m1: [1 x 57], m2: [20 x 20] at c:\\a\\w\\1\\s\\tmp_conda_3.6_070023\\conda\\conda-bld\\pytorch-cpu_1544079880394\\work\\aten\\src\\th\\generic/THTensorMath.cpp:940",
     "output_type": "error",
     "traceback": [
      "\u001b[1;31m---------------------------------------------------------------------------\u001b[0m",
      "\u001b[1;31mRuntimeError\u001b[0m                              Traceback (most recent call last)",
      "\u001b[1;32m<ipython-input-16-122f6ab0da05>\u001b[0m in \u001b[0;36m<module>\u001b[1;34m\u001b[0m\n\u001b[0;32m    127\u001b[0m \u001b[0mtl\u001b[0m \u001b[1;33m=\u001b[0m \u001b[0mtorch\u001b[0m\u001b[1;33m.\u001b[0m\u001b[0mutils\u001b[0m\u001b[1;33m.\u001b[0m\u001b[0mdata\u001b[0m\u001b[1;33m.\u001b[0m\u001b[0mDataLoader\u001b[0m\u001b[1;33m(\u001b[0m\u001b[0mtraining\u001b[0m\u001b[1;33m)\u001b[0m\u001b[1;33m\u001b[0m\u001b[1;33m\u001b[0m\u001b[0m\n\u001b[0;32m    128\u001b[0m \u001b[0mvl\u001b[0m \u001b[1;33m=\u001b[0m \u001b[0mtorch\u001b[0m\u001b[1;33m.\u001b[0m\u001b[0mutils\u001b[0m\u001b[1;33m.\u001b[0m\u001b[0mdata\u001b[0m\u001b[1;33m.\u001b[0m\u001b[0mDataLoader\u001b[0m\u001b[1;33m(\u001b[0m\u001b[0mvalid\u001b[0m\u001b[1;33m)\u001b[0m\u001b[1;33m\u001b[0m\u001b[1;33m\u001b[0m\u001b[0m\n\u001b[1;32m--> 129\u001b[1;33m \u001b[0mtrain\u001b[0m\u001b[1;33m(\u001b[0m\u001b[0mae\u001b[0m\u001b[1;33m,\u001b[0m \u001b[0mtl\u001b[0m\u001b[1;33m,\u001b[0m \u001b[0mvl\u001b[0m\u001b[1;33m,\u001b[0m \u001b[0mnum_epochs\u001b[0m\u001b[1;33m=\u001b[0m\u001b[1;36m5\u001b[0m\u001b[1;33m)\u001b[0m\u001b[1;33m\u001b[0m\u001b[1;33m\u001b[0m\u001b[0m\n\u001b[0m\u001b[0;32m    130\u001b[0m \u001b[1;31m# result plots problematic, no increasing trend\u001b[0m\u001b[1;33m\u001b[0m\u001b[1;33m\u001b[0m\u001b[1;33m\u001b[0m\u001b[0m\n",
      "\u001b[1;32m<ipython-input-16-122f6ab0da05>\u001b[0m in \u001b[0;36mtrain\u001b[1;34m(model, train_loader, valid_loader, num_epochs, learning_rate)\u001b[0m\n\u001b[0;32m     60\u001b[0m \u001b[1;33m\u001b[0m\u001b[0m\n\u001b[0;32m     61\u001b[0m             \u001b[0mdatam\u001b[0m \u001b[1;33m=\u001b[0m \u001b[0mzero_out_random_feature\u001b[0m\u001b[1;33m(\u001b[0m\u001b[0mdata\u001b[0m\u001b[1;33m.\u001b[0m\u001b[0mclone\u001b[0m\u001b[1;33m(\u001b[0m\u001b[1;33m)\u001b[0m\u001b[1;33m)\u001b[0m \u001b[1;31m# zero out one categorical feature\u001b[0m\u001b[1;33m\u001b[0m\u001b[1;33m\u001b[0m\u001b[0m\n\u001b[1;32m---> 62\u001b[1;33m             \u001b[0mrecon\u001b[0m \u001b[1;33m=\u001b[0m \u001b[0mmodel\u001b[0m\u001b[1;33m(\u001b[0m\u001b[0mdatam\u001b[0m\u001b[1;33m)\u001b[0m\u001b[1;33m\u001b[0m\u001b[1;33m\u001b[0m\u001b[0m\n\u001b[0m\u001b[0;32m     63\u001b[0m             \u001b[0mloss\u001b[0m \u001b[1;33m=\u001b[0m \u001b[0mcriterion\u001b[0m\u001b[1;33m(\u001b[0m\u001b[0mrecon\u001b[0m\u001b[1;33m,\u001b[0m \u001b[0mdata\u001b[0m\u001b[1;33m)\u001b[0m\u001b[1;33m\u001b[0m\u001b[1;33m\u001b[0m\u001b[0m\n\u001b[0;32m     64\u001b[0m             \u001b[0mcur_loss\u001b[0m \u001b[1;33m+=\u001b[0m \u001b[0mloss\u001b[0m\u001b[1;33m\u001b[0m\u001b[1;33m\u001b[0m\u001b[0m\n",
      "\u001b[1;32m~\\Anaconda3\\lib\\site-packages\\torch\\nn\\modules\\module.py\u001b[0m in \u001b[0;36m__call__\u001b[1;34m(self, *input, **kwargs)\u001b[0m\n\u001b[0;32m    487\u001b[0m             \u001b[0mresult\u001b[0m \u001b[1;33m=\u001b[0m \u001b[0mself\u001b[0m\u001b[1;33m.\u001b[0m\u001b[0m_slow_forward\u001b[0m\u001b[1;33m(\u001b[0m\u001b[1;33m*\u001b[0m\u001b[0minput\u001b[0m\u001b[1;33m,\u001b[0m \u001b[1;33m**\u001b[0m\u001b[0mkwargs\u001b[0m\u001b[1;33m)\u001b[0m\u001b[1;33m\u001b[0m\u001b[1;33m\u001b[0m\u001b[0m\n\u001b[0;32m    488\u001b[0m         \u001b[1;32melse\u001b[0m\u001b[1;33m:\u001b[0m\u001b[1;33m\u001b[0m\u001b[1;33m\u001b[0m\u001b[0m\n\u001b[1;32m--> 489\u001b[1;33m             \u001b[0mresult\u001b[0m \u001b[1;33m=\u001b[0m \u001b[0mself\u001b[0m\u001b[1;33m.\u001b[0m\u001b[0mforward\u001b[0m\u001b[1;33m(\u001b[0m\u001b[1;33m*\u001b[0m\u001b[0minput\u001b[0m\u001b[1;33m,\u001b[0m \u001b[1;33m**\u001b[0m\u001b[0mkwargs\u001b[0m\u001b[1;33m)\u001b[0m\u001b[1;33m\u001b[0m\u001b[1;33m\u001b[0m\u001b[0m\n\u001b[0m\u001b[0;32m    490\u001b[0m         \u001b[1;32mfor\u001b[0m \u001b[0mhook\u001b[0m \u001b[1;32min\u001b[0m \u001b[0mself\u001b[0m\u001b[1;33m.\u001b[0m\u001b[0m_forward_hooks\u001b[0m\u001b[1;33m.\u001b[0m\u001b[0mvalues\u001b[0m\u001b[1;33m(\u001b[0m\u001b[1;33m)\u001b[0m\u001b[1;33m:\u001b[0m\u001b[1;33m\u001b[0m\u001b[1;33m\u001b[0m\u001b[0m\n\u001b[0;32m    491\u001b[0m             \u001b[0mhook_result\u001b[0m \u001b[1;33m=\u001b[0m \u001b[0mhook\u001b[0m\u001b[1;33m(\u001b[0m\u001b[0mself\u001b[0m\u001b[1;33m,\u001b[0m \u001b[0minput\u001b[0m\u001b[1;33m,\u001b[0m \u001b[0mresult\u001b[0m\u001b[1;33m)\u001b[0m\u001b[1;33m\u001b[0m\u001b[1;33m\u001b[0m\u001b[0m\n",
      "\u001b[1;32m<ipython-input-15-f5e7ea32959d>\u001b[0m in \u001b[0;36mforward\u001b[1;34m(self, x)\u001b[0m\n\u001b[0;32m     18\u001b[0m \u001b[1;33m\u001b[0m\u001b[0m\n\u001b[0;32m     19\u001b[0m     \u001b[1;32mdef\u001b[0m \u001b[0mforward\u001b[0m\u001b[1;33m(\u001b[0m\u001b[0mself\u001b[0m\u001b[1;33m,\u001b[0m \u001b[0mx\u001b[0m\u001b[1;33m)\u001b[0m\u001b[1;33m:\u001b[0m\u001b[1;33m\u001b[0m\u001b[1;33m\u001b[0m\u001b[0m\n\u001b[1;32m---> 20\u001b[1;33m         \u001b[0mx\u001b[0m \u001b[1;33m=\u001b[0m \u001b[0mself\u001b[0m\u001b[1;33m.\u001b[0m\u001b[0mencoder\u001b[0m\u001b[1;33m(\u001b[0m\u001b[0mx\u001b[0m\u001b[1;33m)\u001b[0m\u001b[1;33m\u001b[0m\u001b[1;33m\u001b[0m\u001b[0m\n\u001b[0m\u001b[0;32m     21\u001b[0m         \u001b[0mx\u001b[0m \u001b[1;33m=\u001b[0m \u001b[0mself\u001b[0m\u001b[1;33m.\u001b[0m\u001b[0mdecoder\u001b[0m\u001b[1;33m(\u001b[0m\u001b[0mx\u001b[0m\u001b[1;33m)\u001b[0m\u001b[1;33m\u001b[0m\u001b[1;33m\u001b[0m\u001b[0m\n\u001b[0;32m     22\u001b[0m         \u001b[1;32mreturn\u001b[0m \u001b[0mx\u001b[0m\u001b[1;33m\u001b[0m\u001b[1;33m\u001b[0m\u001b[0m\n",
      "\u001b[1;32m~\\Anaconda3\\lib\\site-packages\\torch\\nn\\modules\\module.py\u001b[0m in \u001b[0;36m__call__\u001b[1;34m(self, *input, **kwargs)\u001b[0m\n\u001b[0;32m    487\u001b[0m             \u001b[0mresult\u001b[0m \u001b[1;33m=\u001b[0m \u001b[0mself\u001b[0m\u001b[1;33m.\u001b[0m\u001b[0m_slow_forward\u001b[0m\u001b[1;33m(\u001b[0m\u001b[1;33m*\u001b[0m\u001b[0minput\u001b[0m\u001b[1;33m,\u001b[0m \u001b[1;33m**\u001b[0m\u001b[0mkwargs\u001b[0m\u001b[1;33m)\u001b[0m\u001b[1;33m\u001b[0m\u001b[1;33m\u001b[0m\u001b[0m\n\u001b[0;32m    488\u001b[0m         \u001b[1;32melse\u001b[0m\u001b[1;33m:\u001b[0m\u001b[1;33m\u001b[0m\u001b[1;33m\u001b[0m\u001b[0m\n\u001b[1;32m--> 489\u001b[1;33m             \u001b[0mresult\u001b[0m \u001b[1;33m=\u001b[0m \u001b[0mself\u001b[0m\u001b[1;33m.\u001b[0m\u001b[0mforward\u001b[0m\u001b[1;33m(\u001b[0m\u001b[1;33m*\u001b[0m\u001b[0minput\u001b[0m\u001b[1;33m,\u001b[0m \u001b[1;33m**\u001b[0m\u001b[0mkwargs\u001b[0m\u001b[1;33m)\u001b[0m\u001b[1;33m\u001b[0m\u001b[1;33m\u001b[0m\u001b[0m\n\u001b[0m\u001b[0;32m    490\u001b[0m         \u001b[1;32mfor\u001b[0m \u001b[0mhook\u001b[0m \u001b[1;32min\u001b[0m \u001b[0mself\u001b[0m\u001b[1;33m.\u001b[0m\u001b[0m_forward_hooks\u001b[0m\u001b[1;33m.\u001b[0m\u001b[0mvalues\u001b[0m\u001b[1;33m(\u001b[0m\u001b[1;33m)\u001b[0m\u001b[1;33m:\u001b[0m\u001b[1;33m\u001b[0m\u001b[1;33m\u001b[0m\u001b[0m\n\u001b[0;32m    491\u001b[0m             \u001b[0mhook_result\u001b[0m \u001b[1;33m=\u001b[0m \u001b[0mhook\u001b[0m\u001b[1;33m(\u001b[0m\u001b[0mself\u001b[0m\u001b[1;33m,\u001b[0m \u001b[0minput\u001b[0m\u001b[1;33m,\u001b[0m \u001b[0mresult\u001b[0m\u001b[1;33m)\u001b[0m\u001b[1;33m\u001b[0m\u001b[1;33m\u001b[0m\u001b[0m\n",
      "\u001b[1;32m~\\Anaconda3\\lib\\site-packages\\torch\\nn\\modules\\container.py\u001b[0m in \u001b[0;36mforward\u001b[1;34m(self, input)\u001b[0m\n\u001b[0;32m     90\u001b[0m     \u001b[1;32mdef\u001b[0m \u001b[0mforward\u001b[0m\u001b[1;33m(\u001b[0m\u001b[0mself\u001b[0m\u001b[1;33m,\u001b[0m \u001b[0minput\u001b[0m\u001b[1;33m)\u001b[0m\u001b[1;33m:\u001b[0m\u001b[1;33m\u001b[0m\u001b[1;33m\u001b[0m\u001b[0m\n\u001b[0;32m     91\u001b[0m         \u001b[1;32mfor\u001b[0m \u001b[0mmodule\u001b[0m \u001b[1;32min\u001b[0m \u001b[0mself\u001b[0m\u001b[1;33m.\u001b[0m\u001b[0m_modules\u001b[0m\u001b[1;33m.\u001b[0m\u001b[0mvalues\u001b[0m\u001b[1;33m(\u001b[0m\u001b[1;33m)\u001b[0m\u001b[1;33m:\u001b[0m\u001b[1;33m\u001b[0m\u001b[1;33m\u001b[0m\u001b[0m\n\u001b[1;32m---> 92\u001b[1;33m             \u001b[0minput\u001b[0m \u001b[1;33m=\u001b[0m \u001b[0mmodule\u001b[0m\u001b[1;33m(\u001b[0m\u001b[0minput\u001b[0m\u001b[1;33m)\u001b[0m\u001b[1;33m\u001b[0m\u001b[1;33m\u001b[0m\u001b[0m\n\u001b[0m\u001b[0;32m     93\u001b[0m         \u001b[1;32mreturn\u001b[0m \u001b[0minput\u001b[0m\u001b[1;33m\u001b[0m\u001b[1;33m\u001b[0m\u001b[0m\n\u001b[0;32m     94\u001b[0m \u001b[1;33m\u001b[0m\u001b[0m\n",
      "\u001b[1;32m~\\Anaconda3\\lib\\site-packages\\torch\\nn\\modules\\module.py\u001b[0m in \u001b[0;36m__call__\u001b[1;34m(self, *input, **kwargs)\u001b[0m\n\u001b[0;32m    487\u001b[0m             \u001b[0mresult\u001b[0m \u001b[1;33m=\u001b[0m \u001b[0mself\u001b[0m\u001b[1;33m.\u001b[0m\u001b[0m_slow_forward\u001b[0m\u001b[1;33m(\u001b[0m\u001b[1;33m*\u001b[0m\u001b[0minput\u001b[0m\u001b[1;33m,\u001b[0m \u001b[1;33m**\u001b[0m\u001b[0mkwargs\u001b[0m\u001b[1;33m)\u001b[0m\u001b[1;33m\u001b[0m\u001b[1;33m\u001b[0m\u001b[0m\n\u001b[0;32m    488\u001b[0m         \u001b[1;32melse\u001b[0m\u001b[1;33m:\u001b[0m\u001b[1;33m\u001b[0m\u001b[1;33m\u001b[0m\u001b[0m\n\u001b[1;32m--> 489\u001b[1;33m             \u001b[0mresult\u001b[0m \u001b[1;33m=\u001b[0m \u001b[0mself\u001b[0m\u001b[1;33m.\u001b[0m\u001b[0mforward\u001b[0m\u001b[1;33m(\u001b[0m\u001b[1;33m*\u001b[0m\u001b[0minput\u001b[0m\u001b[1;33m,\u001b[0m \u001b[1;33m**\u001b[0m\u001b[0mkwargs\u001b[0m\u001b[1;33m)\u001b[0m\u001b[1;33m\u001b[0m\u001b[1;33m\u001b[0m\u001b[0m\n\u001b[0m\u001b[0;32m    490\u001b[0m         \u001b[1;32mfor\u001b[0m \u001b[0mhook\u001b[0m \u001b[1;32min\u001b[0m \u001b[0mself\u001b[0m\u001b[1;33m.\u001b[0m\u001b[0m_forward_hooks\u001b[0m\u001b[1;33m.\u001b[0m\u001b[0mvalues\u001b[0m\u001b[1;33m(\u001b[0m\u001b[1;33m)\u001b[0m\u001b[1;33m:\u001b[0m\u001b[1;33m\u001b[0m\u001b[1;33m\u001b[0m\u001b[0m\n\u001b[0;32m    491\u001b[0m             \u001b[0mhook_result\u001b[0m \u001b[1;33m=\u001b[0m \u001b[0mhook\u001b[0m\u001b[1;33m(\u001b[0m\u001b[0mself\u001b[0m\u001b[1;33m,\u001b[0m \u001b[0minput\u001b[0m\u001b[1;33m,\u001b[0m \u001b[0mresult\u001b[0m\u001b[1;33m)\u001b[0m\u001b[1;33m\u001b[0m\u001b[1;33m\u001b[0m\u001b[0m\n",
      "\u001b[1;32m~\\Anaconda3\\lib\\site-packages\\torch\\nn\\modules\\linear.py\u001b[0m in \u001b[0;36mforward\u001b[1;34m(self, input)\u001b[0m\n\u001b[0;32m     65\u001b[0m     \u001b[1;33m@\u001b[0m\u001b[0mweak_script_method\u001b[0m\u001b[1;33m\u001b[0m\u001b[1;33m\u001b[0m\u001b[0m\n\u001b[0;32m     66\u001b[0m     \u001b[1;32mdef\u001b[0m \u001b[0mforward\u001b[0m\u001b[1;33m(\u001b[0m\u001b[0mself\u001b[0m\u001b[1;33m,\u001b[0m \u001b[0minput\u001b[0m\u001b[1;33m)\u001b[0m\u001b[1;33m:\u001b[0m\u001b[1;33m\u001b[0m\u001b[1;33m\u001b[0m\u001b[0m\n\u001b[1;32m---> 67\u001b[1;33m         \u001b[1;32mreturn\u001b[0m \u001b[0mF\u001b[0m\u001b[1;33m.\u001b[0m\u001b[0mlinear\u001b[0m\u001b[1;33m(\u001b[0m\u001b[0minput\u001b[0m\u001b[1;33m,\u001b[0m \u001b[0mself\u001b[0m\u001b[1;33m.\u001b[0m\u001b[0mweight\u001b[0m\u001b[1;33m,\u001b[0m \u001b[0mself\u001b[0m\u001b[1;33m.\u001b[0m\u001b[0mbias\u001b[0m\u001b[1;33m)\u001b[0m\u001b[1;33m\u001b[0m\u001b[1;33m\u001b[0m\u001b[0m\n\u001b[0m\u001b[0;32m     68\u001b[0m \u001b[1;33m\u001b[0m\u001b[0m\n\u001b[0;32m     69\u001b[0m     \u001b[1;32mdef\u001b[0m \u001b[0mextra_repr\u001b[0m\u001b[1;33m(\u001b[0m\u001b[0mself\u001b[0m\u001b[1;33m)\u001b[0m\u001b[1;33m:\u001b[0m\u001b[1;33m\u001b[0m\u001b[1;33m\u001b[0m\u001b[0m\n",
      "\u001b[1;32m~\\Anaconda3\\lib\\site-packages\\torch\\nn\\functional.py\u001b[0m in \u001b[0;36mlinear\u001b[1;34m(input, weight, bias)\u001b[0m\n\u001b[0;32m   1350\u001b[0m     \u001b[1;32mif\u001b[0m \u001b[0minput\u001b[0m\u001b[1;33m.\u001b[0m\u001b[0mdim\u001b[0m\u001b[1;33m(\u001b[0m\u001b[1;33m)\u001b[0m \u001b[1;33m==\u001b[0m \u001b[1;36m2\u001b[0m \u001b[1;32mand\u001b[0m \u001b[0mbias\u001b[0m \u001b[1;32mis\u001b[0m \u001b[1;32mnot\u001b[0m \u001b[1;32mNone\u001b[0m\u001b[1;33m:\u001b[0m\u001b[1;33m\u001b[0m\u001b[1;33m\u001b[0m\u001b[0m\n\u001b[0;32m   1351\u001b[0m         \u001b[1;31m# fused op is marginally faster\u001b[0m\u001b[1;33m\u001b[0m\u001b[1;33m\u001b[0m\u001b[1;33m\u001b[0m\u001b[0m\n\u001b[1;32m-> 1352\u001b[1;33m         \u001b[0mret\u001b[0m \u001b[1;33m=\u001b[0m \u001b[0mtorch\u001b[0m\u001b[1;33m.\u001b[0m\u001b[0maddmm\u001b[0m\u001b[1;33m(\u001b[0m\u001b[0mtorch\u001b[0m\u001b[1;33m.\u001b[0m\u001b[0mjit\u001b[0m\u001b[1;33m.\u001b[0m\u001b[0m_unwrap_optional\u001b[0m\u001b[1;33m(\u001b[0m\u001b[0mbias\u001b[0m\u001b[1;33m)\u001b[0m\u001b[1;33m,\u001b[0m \u001b[0minput\u001b[0m\u001b[1;33m,\u001b[0m \u001b[0mweight\u001b[0m\u001b[1;33m.\u001b[0m\u001b[0mt\u001b[0m\u001b[1;33m(\u001b[0m\u001b[1;33m)\u001b[0m\u001b[1;33m)\u001b[0m\u001b[1;33m\u001b[0m\u001b[1;33m\u001b[0m\u001b[0m\n\u001b[0m\u001b[0;32m   1353\u001b[0m     \u001b[1;32melse\u001b[0m\u001b[1;33m:\u001b[0m\u001b[1;33m\u001b[0m\u001b[1;33m\u001b[0m\u001b[0m\n\u001b[0;32m   1354\u001b[0m         \u001b[0moutput\u001b[0m \u001b[1;33m=\u001b[0m \u001b[0minput\u001b[0m\u001b[1;33m.\u001b[0m\u001b[0mmatmul\u001b[0m\u001b[1;33m(\u001b[0m\u001b[0mweight\u001b[0m\u001b[1;33m.\u001b[0m\u001b[0mt\u001b[0m\u001b[1;33m(\u001b[0m\u001b[1;33m)\u001b[0m\u001b[1;33m)\u001b[0m\u001b[1;33m\u001b[0m\u001b[1;33m\u001b[0m\u001b[0m\n",
      "\u001b[1;31mRuntimeError\u001b[0m: size mismatch, m1: [1 x 57], m2: [20 x 20] at c:\\a\\w\\1\\s\\tmp_conda_3.6_070023\\conda\\conda-bld\\pytorch-cpu_1544079880394\\work\\aten\\src\\th\\generic/THTensorMath.cpp:940"
     ]
    }
   ],
   "source": [
    "# Part 3 (a) (b)\n",
    "import matplotlib.pyplot as plt\n",
    "%matplotlib inline\n",
    "import os\n",
    "\n",
    "def zero_out_feature(records, feature):\n",
    "    \"\"\" Set the feature missing in records, by setting the appropriate\n",
    "    columns of records to 0\n",
    "    \"\"\"\n",
    "    start_index = cat_index[feature]\n",
    "    stop_index = cat_index[feature] + len(cat_values[feature])\n",
    "    records[:, start_index:stop_index] = 0\n",
    "    return records\n",
    "\n",
    "def zero_out_random_feature(records):\n",
    "    \"\"\" Set one random feature missing in records, by setting the \n",
    "    appropriate columns of records to 0\n",
    "    \"\"\"\n",
    "    return zero_out_feature(records, random.choice(catcols))\n",
    "\n",
    "def get_accuracy(model, data_loader):\n",
    "    \"\"\"Return the \"accuracy\" of the autoencoder model across a data set\n",
    "    \n",
    "    Args:\n",
    "       - model: the autoencoder model, an instance of nn.Module\n",
    "       - data_loader: an instance of torch.utils.data.DataLoader\n",
    "\n",
    "    Example (to illustrate how get_accuracy is intended to be called.\n",
    "             depending on your variable naming this code might not work\n",
    "             out of the box)\n",
    "\n",
    "        >>> model = AutoEncoder()\n",
    "        >>> vdl = torch.utils.data.DataLoader(data_valid, batch_size=256, shuffle=True)\n",
    "        >>> get_accuracy(model, vdl)\n",
    "    \"\"\"\n",
    "    total = 0\n",
    "    acc = 0\n",
    "    for col in catcols:\n",
    "        for item in data_loader: # minibatches\n",
    "            inp = item.detach().numpy()\n",
    "            out = model(zero_out_feature(item.clone(), col)).detach().numpy()\n",
    "            for i in range(out.shape[0]): # record in minibatch\n",
    "                acc += int(get_feature(out[i], col) == get_feature(inp[i], col))\n",
    "                total += 1\n",
    "    return acc / total\n",
    "\n",
    "def train(model, train_loader, valid_loader, num_epochs=5, learning_rate=1e-4):\n",
    "    \"\"\" Training loop. You should update this.\"\"\"\n",
    "    torch.manual_seed(42)\n",
    "    criterion = nn.MSELoss()\n",
    "    optimizer = torch.optim.Adam(model.parameters(), lr=learning_rate)\n",
    "    \n",
    "    iters, viters, losses, vlosses, acc, vacc = [], [], [], [], [], []\n",
    "    \n",
    "    for epoch in range(num_epochs):\n",
    "        cur_loss = 0\n",
    "        n, vn = 0, 0\n",
    "        for data in train_loader:\n",
    "            #print('Epoch: '+str(epoch)+' Iter: '+str(n))\n",
    "            \n",
    "            datam = zero_out_random_feature(data.clone()) # zero out one categorical feature\n",
    "            recon = model(datam)\n",
    "            loss = criterion(recon, data)\n",
    "            cur_loss += loss\n",
    "            loss.backward()\n",
    "            optimizer.step()\n",
    "            optimizer.zero_grad()\n",
    "            \n",
    "            n += 1\n",
    "        \n",
    "        #print('Accuracy calculated epoch: '+str(epoch))\n",
    "        iters.append(epoch)\n",
    "        losses.append(float(cur_loss)/train_loader.batch_size)             # compute *average* loss\n",
    "        acc.append(get_accuracy(model, train_loader))\n",
    "        \n",
    "        cur_vloss = 0\n",
    "        for vdata in valid_loader:\n",
    "            \n",
    "            vdatam = zero_out_random_feature(vdata.clone()) # zero out one categorical feature\n",
    "            vrecon = model(vdatam)\n",
    "            vloss = criterion(vrecon, vdata)\n",
    "            cur_vloss += vloss\n",
    "            \n",
    "            vn += 1\n",
    "        \n",
    "        #print('vAccuracy calculated: '+str(epoch))\n",
    "        \n",
    "        viters.append(epoch)\n",
    "        vlosses.append(float(cur_vloss)/valid_loader.batch_size)\n",
    "        vacc.append(get_accuracy(model, valid_loader))\n",
    "    \n",
    "    # plotting\n",
    "    plt.title(\"Training Curve\")\n",
    "    plt.plot(iters, losses, label=\"Train\")\n",
    "    plt.xlabel(\"Iterations\")\n",
    "    plt.ylabel(\"Loss\")\n",
    "    plt.show()\n",
    "    \n",
    "    plt.title(\"Validation Curve\")\n",
    "    plt.plot(viters, vlosses, label=\"Validation\")\n",
    "    plt.xlabel(\"Iterations\")\n",
    "    plt.ylabel(\"Loss\")\n",
    "    plt.show()\n",
    "    \n",
    "    plt.title(\"Training Curve\")\n",
    "    plt.plot(iters, acc, label=\"Train\")\n",
    "    plt.xlabel(\"Iterations\")\n",
    "    plt.ylabel(\"Acc\")\n",
    "    plt.show()\n",
    "    \n",
    "    plt.title(\"Validation Curve\")\n",
    "    plt.plot(viters, vacc, label=\"Validation\")\n",
    "    plt.xlabel(\"Iterations\")\n",
    "    plt.ylabel(\"Acc\")\n",
    "    plt.show()\n",
    "    \n",
    "    #print(iters)\n",
    "    #print(viters)\n",
    "    #print(losses)\n",
    "    #print(vlosses)\n",
    "    #print(acc)\n",
    "    #print(vacc)\n",
    "    \n",
    "    return model\n",
    "    \n",
    "ae = AutoEncoder()\n",
    "tl = torch.utils.data.DataLoader(training)\n",
    "vl = torch.utils.data.DataLoader(valid)\n",
    "train(ae, tl, vl, num_epochs=5)\n",
    "# result plots problematic, no increasing trend"
   ]
  },
  {
   "cell_type": "code",
   "execution_count": null,
   "metadata": {},
   "outputs": [],
   "source": [
    "# Part 3 (c)\n",
    "# increase batch_size for less results noise (vertical jitter)\n",
    "# increase learning_rate since current LT maybe too low\n",
    "ae = AutoEncoder()\n",
    "tl = torch.utils.data.DataLoader(training, batch_size=1000)\n",
    "vl = torch.utils.data.DataLoader(valid, batch_size=1000)\n",
    "train(ae, tl, vl, num_epochs=5, learning_rate=0.01)\n",
    "# increasing trend found, almost linear"
   ]
  },
  {
   "cell_type": "code",
   "execution_count": null,
   "metadata": {},
   "outputs": [],
   "source": [
    "# Part 3 (d)\n",
    "# 1: increase num_epochs since the results' trend is good but needs more training\n",
    "ae = AutoEncoder()\n",
    "tl = torch.utils.data.DataLoader(training, batch_size=1000)\n",
    "vl = torch.utils.data.DataLoader(valid, batch_size=1000)\n",
    "train(ae, tl, vl, num_epochs=20, learning_rate=0.01)\n",
    "# more conventional curves obtained, no clear plateau"
   ]
  },
  {
   "cell_type": "code",
   "execution_count": null,
   "metadata": {},
   "outputs": [],
   "source": [
    "# 2: further increase num_epochs since the increasing trend has not plateaued\n",
    "ae = AutoEncoder()\n",
    "tl = torch.utils.data.DataLoader(training, batch_size=1000)\n",
    "vl = torch.utils.data.DataLoader(valid, batch_size=1000)\n",
    "train(ae, tl, vl, num_epochs=40, learning_rate=0.01)\n",
    "# conventional curves obtained, significant noise"
   ]
  },
  {
   "cell_type": "code",
   "execution_count": null,
   "metadata": {},
   "outputs": [],
   "source": [
    "# 3: increase batch_size to reduce results noise\n",
    "ae = AutoEncoder()\n",
    "tl = torch.utils.data.DataLoader(training, batch_size=2000)\n",
    "vl = torch.utils.data.DataLoader(valid, batch_size=2000)\n",
    "train(ae, tl, vl, num_epochs=40, learning_rate=0.01)\n",
    "# noise reduced, clearer increasing trend"
   ]
  },
  {
   "cell_type": "code",
   "execution_count": null,
   "metadata": {},
   "outputs": [],
   "source": [
    "# 4: increase learning_rate to see if the results improve\n",
    "ae = AutoEncoder()\n",
    "tl = torch.utils.data.DataLoader(training, batch_size=2000)\n",
    "vl = torch.utils.data.DataLoader(valid, batch_size=2000)\n",
    "train(ae, tl, vl, num_epochs=40, learning_rate=0.05)\n",
    "# results plateaued but worsened"
   ]
  },
  {
   "cell_type": "code",
   "execution_count": null,
   "metadata": {},
   "outputs": [],
   "source": [
    "# Part 4 (a)\n",
    "ae = AutoEncoder()\n",
    "tl = torch.utils.data.DataLoader(training, batch_size=2000)\n",
    "vl = torch.utils.data.DataLoader(valid, batch_size=2000)\n",
    "m = train(ae, tl, vl, num_epochs=31, learning_rate=0.01)\n",
    "\n",
    "r = get_accuracy(ae, torch.utils.data.DataLoader(test, batch_size=2000))\n",
    "print(r)"
   ]
  },
  {
   "cell_type": "code",
   "execution_count": null,
   "metadata": {},
   "outputs": [],
   "source": [
    "# Part 4 (b)\n",
    "from collections import Counter\n",
    "\n",
    "temp_df = df['marriage']\n",
    "cou = Counter(temp_df)\n",
    "n = cou.most_common(1)\n",
    "\n",
    "n[0][1] / df.shape[0]"
   ]
  },
  {
   "cell_type": "code",
   "execution_count": null,
   "metadata": {
    "scrolled": true
   },
   "outputs": [],
   "source": [
    "# Part 4 (c)\n",
    "df\n",
    "# Yes. As seen in the data, a person's education level is highly correlated\n",
    "# to the number of years of education the person has.\n",
    "# A person's occupation also seem to correlate to their education level."
   ]
  },
  {
   "cell_type": "code",
   "execution_count": null,
   "metadata": {},
   "outputs": [],
   "source": [
    "# Part 4 (d)\n",
    "from torch.autograd import Variable\n",
    "\n",
    "o1 = get_onehot(test, 'edu')[0]\n",
    "test = zero_out_feature(test, 'edu')\n",
    "o2 = get_onehot(ae(Variable(torch.from_numpy(test))), 'edu')[0]"
   ]
  },
  {
   "cell_type": "code",
   "execution_count": null,
   "metadata": {},
   "outputs": [],
   "source": [
    "get_onehot(datanp[0], 'edu')"
   ]
  },
  {
   "cell_type": "code",
   "execution_count": null,
   "metadata": {},
   "outputs": [],
   "source": [
    "get_onehot(o2, 'edu')"
   ]
  },
  {
   "cell_type": "code",
   "execution_count": null,
   "metadata": {},
   "outputs": [],
   "source": [
    "cat_values # model predicted this person to be HS-grad (1.7371e-01) or\n",
    "# Some-college (1.6761e-01)"
   ]
  }
 ],
 "metadata": {
  "kernelspec": {
   "display_name": "Python 3",
   "language": "python",
   "name": "python3"
  },
  "language_info": {
   "codemirror_mode": {
    "name": "ipython",
    "version": 3
   },
   "file_extension": ".py",
   "mimetype": "text/x-python",
   "name": "python",
   "nbconvert_exporter": "python",
   "pygments_lexer": "ipython3",
   "version": "3.6.8"
  }
 },
 "nbformat": 4,
 "nbformat_minor": 2
}
